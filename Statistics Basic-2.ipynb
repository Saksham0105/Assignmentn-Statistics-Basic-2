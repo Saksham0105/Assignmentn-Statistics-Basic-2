{
 "cells": [
  {
   "cell_type": "markdown",
   "id": "0b02964c-f24e-49c6-bc64-efa13f823fa7",
   "metadata": {},
   "source": [
    "## Q1. What are the three measures of central tendency?"
   ]
  },
  {
   "cell_type": "markdown",
   "id": "92ef8a18-4d7c-4848-9c2c-c242848a28f8",
   "metadata": {},
   "source": [
    "Ans :-"
   ]
  },
  {
   "cell_type": "markdown",
   "id": "b5559361-e162-4ea6-9a26-6f70a6db3273",
   "metadata": {},
   "source": [
    "The three measures of central tendency are mean, median, and mode."
   ]
  },
  {
   "cell_type": "markdown",
   "id": "12d99036-ac0c-4d1f-911e-fb776836252a",
   "metadata": {},
   "source": [
    "## Q2. What is the difference between the mean, median, and mode? How are they used to measure the central tendency of a dataset?"
   ]
  },
  {
   "cell_type": "markdown",
   "id": "c0061617-cd80-40b6-bc5c-ee525fac7937",
   "metadata": {},
   "source": [
    "Ans :-"
   ]
  },
  {
   "cell_type": "markdown",
   "id": "1e7671e7-4ebe-43c9-a556-d2028d7713e3",
   "metadata": {},
   "source": [
    "* Mean "
   ]
  },
  {
   "cell_type": "markdown",
   "id": "f7413e0e-25f5-4dc1-b074-16e47ead64b6",
   "metadata": {},
   "source": [
    "The mean is the average of all the values in a dataset, calculated by summing up all the values and dividing by the total number of values. "
   ]
  },
  {
   "cell_type": "markdown",
   "id": "cb19a1a5-91d7-47df-a151-1fb8217981a6",
   "metadata": {},
   "source": [
    "* Median"
   ]
  },
  {
   "cell_type": "markdown",
   "id": "1b26ce53-79de-4a1a-b06b-5e0c2280dcee",
   "metadata": {},
   "source": [
    "The median is the middle value when the data is arranged in ascending or descending order. If there is an even number of values, the median is the average of the two middle values. "
   ]
  },
  {
   "cell_type": "markdown",
   "id": "e794664a-1941-43bf-862e-32d797f7c008",
   "metadata": {},
   "source": [
    "* Mode "
   ]
  },
  {
   "cell_type": "markdown",
   "id": "4c8c58cd-df1a-4b13-8ab7-a894265c014b",
   "metadata": {},
   "source": [
    " The mode is the value that appears most frequently in the dataset. These measures are used to gauge where the center of the data lies."
   ]
  },
  {
   "cell_type": "markdown",
   "id": "2cec7dc7-023d-431e-8f7e-ad59190bd1d6",
   "metadata": {},
   "source": [
    "## Q3. Measure the three measures of central tendency for the given height data:\n",
    "[178,177,176,177,178.2,178,175,179,180,175,178.9,176.2,177,172.5,178,176.5]"
   ]
  },
  {
   "cell_type": "markdown",
   "id": "9720116b-2442-4e9f-b7a2-8cf85b7d0ca4",
   "metadata": {},
   "source": [
    "Ans -"
   ]
  },
  {
   "cell_type": "code",
   "execution_count": 41,
   "id": "ce2007fc-7039-4f56-b07b-b38720b632ec",
   "metadata": {},
   "outputs": [],
   "source": [
    "heightdata =[178,177,176,177,178.2,178,175,179,180,175,178.9,176.2,177,172.5,178,176.5]"
   ]
  },
  {
   "cell_type": "code",
   "execution_count": 42,
   "id": "23ff5f01-77c8-4c88-a499-27513281260a",
   "metadata": {},
   "outputs": [],
   "source": [
    "import numpy as np\n",
    "from scipy import stats"
   ]
  },
  {
   "cell_type": "code",
   "execution_count": 43,
   "id": "d09005e1-2169-4350-a5e2-d621ba97cc74",
   "metadata": {},
   "outputs": [
    {
     "data": {
      "text/plain": [
       "177.01875"
      ]
     },
     "execution_count": 43,
     "metadata": {},
     "output_type": "execute_result"
    }
   ],
   "source": [
    "np.mean(heightdata)"
   ]
  },
  {
   "cell_type": "code",
   "execution_count": 44,
   "id": "7d90e70d-0124-4470-8267-80a17d245032",
   "metadata": {},
   "outputs": [
    {
     "data": {
      "text/plain": [
       "177.0"
      ]
     },
     "execution_count": 44,
     "metadata": {},
     "output_type": "execute_result"
    }
   ],
   "source": [
    "np.median(heightdata)"
   ]
  },
  {
   "cell_type": "code",
   "execution_count": 45,
   "id": "8798ca6e-49ea-43fa-9fd5-3ac90cbf109e",
   "metadata": {},
   "outputs": [
    {
     "name": "stderr",
     "output_type": "stream",
     "text": [
      "/tmp/ipykernel_102/3579084727.py:1: FutureWarning: Unlike other reduction functions (e.g. `skew`, `kurtosis`), the default behavior of `mode` typically preserves the axis it acts along. In SciPy 1.11.0, this behavior will change: the default value of `keepdims` will become False, the `axis` over which the statistic is taken will be eliminated, and the value None will no longer be accepted. Set `keepdims` to True or False to avoid this warning.\n",
      "  stats.mode(heightdata)\n"
     ]
    },
    {
     "data": {
      "text/plain": [
       "ModeResult(mode=array([177.]), count=array([3]))"
      ]
     },
     "execution_count": 45,
     "metadata": {},
     "output_type": "execute_result"
    }
   ],
   "source": [
    "stats.mode(heightdata)"
   ]
  },
  {
   "cell_type": "markdown",
   "id": "bfec97e4-8cea-4961-9a86-23b01d8c33b7",
   "metadata": {},
   "source": [
    "## Q4. Find the standard deviation for the given data:\n",
    "[178,177,176,177,178.2,178,175,179,180,175,178.9,176.2,177,172.5,178,176.5]"
   ]
  },
  {
   "cell_type": "markdown",
   "id": "b4f5f6ac-d5b0-4929-8573-ce1b5e9b8c04",
   "metadata": {},
   "source": [
    "Ans "
   ]
  },
  {
   "cell_type": "code",
   "execution_count": 46,
   "id": "4d8d87e7-ef82-41d6-9e81-6478ca301e67",
   "metadata": {},
   "outputs": [],
   "source": [
    "data2=[178,177,176,177,178.2,178,175,179,180,175,178.9,176.2,177,172.5,178,176.5]"
   ]
  },
  {
   "cell_type": "code",
   "execution_count": 47,
   "id": "abbb0be4-3c1a-4cb7-872f-60be10c1a569",
   "metadata": {},
   "outputs": [],
   "source": [
    "import numpy as np "
   ]
  },
  {
   "cell_type": "code",
   "execution_count": 48,
   "id": "b7de7e9f-b15d-4414-bb8e-b90465194219",
   "metadata": {},
   "outputs": [
    {
     "data": {
      "text/plain": [
       "1.7885814036548633"
      ]
     },
     "execution_count": 48,
     "metadata": {},
     "output_type": "execute_result"
    }
   ],
   "source": [
    "np.std(data)"
   ]
  },
  {
   "cell_type": "markdown",
   "id": "6cf2ef53-5540-4e75-b16c-be54141f334e",
   "metadata": {},
   "source": [
    "## Q5. How are measures of dispersion such as range, variance, and standard deviation used to describe the spread of a dataset? Provide an example."
   ]
  },
  {
   "cell_type": "markdown",
   "id": "1e8e0f40-dea1-49ec-a473-e073a2c6215a",
   "metadata": {},
   "source": [
    "Ans "
   ]
  },
  {
   "cell_type": "markdown",
   "id": "ef2c5e0b-f325-4e44-9350-847e79e9c8fb",
   "metadata": {},
   "source": [
    "Measures of dispersion such as range, variance, and standard deviation provide valuable information about the spread or variability of data within a dataset."
   ]
  },
  {
   "cell_type": "markdown",
   "id": "c86d97f7-4778-4850-bf30-60a687e2e0a0",
   "metadata": {},
   "source": [
    "* Range -"
   ]
  },
  {
   "cell_type": "markdown",
   "id": "267684d3-f91d-4f50-b545-7c69db762f3a",
   "metadata": {},
   "source": [
    "Range gives the difference between the maximum and minimum values in the dataset, providing a simple indication of the spread of the data."
   ]
  },
  {
   "cell_type": "code",
   "execution_count": 49,
   "id": "94642967-48c9-409a-a321-d82ef8a49cb6",
   "metadata": {},
   "outputs": [],
   "source": [
    "data3 = [178, 177, 176, 177, 178.2, 178, 175, 179, 180, 175, 178.9, 176.2, 177, 172.5, 178, 176.5]"
   ]
  },
  {
   "cell_type": "code",
   "execution_count": 51,
   "id": "1a017311-a01e-42e0-a449-ee81005e973b",
   "metadata": {},
   "outputs": [],
   "source": [
    "data_range = np.max(data) - np.min(data)"
   ]
  },
  {
   "cell_type": "code",
   "execution_count": 52,
   "id": "7f3c7b97-a333-4b8d-8fe2-08a6ec97e7f2",
   "metadata": {},
   "outputs": [
    {
     "data": {
      "text/plain": [
       "7.5"
      ]
     },
     "execution_count": 52,
     "metadata": {},
     "output_type": "execute_result"
    }
   ],
   "source": [
    "data_range"
   ]
  },
  {
   "cell_type": "markdown",
   "id": "8b78ffb8-955d-438f-8bdb-b3c507ab0d70",
   "metadata": {},
   "source": [
    "* Variance : -"
   ]
  },
  {
   "cell_type": "markdown",
   "id": "d9e5f9cb-f051-4f38-93d1-e90cbaf904f1",
   "metadata": {},
   "source": [
    "Variance measures how much each number in the dataset differs from the mean. A higher variance indicates that the data points are spread out over a wider range, while a lower variance suggests that the data points are closer to the mean."
   ]
  },
  {
   "cell_type": "code",
   "execution_count": 53,
   "id": "36e6dc2b-908a-4cf3-a02e-5a2cd0f4afe9",
   "metadata": {},
   "outputs": [],
   "source": [
    "data_variance = np.var(data)"
   ]
  },
  {
   "cell_type": "code",
   "execution_count": 54,
   "id": "a1177e86-28ba-4743-bf6e-25e44606c948",
   "metadata": {},
   "outputs": [
    {
     "data": {
      "text/plain": [
       "3.199023437500001"
      ]
     },
     "execution_count": 54,
     "metadata": {},
     "output_type": "execute_result"
    }
   ],
   "source": [
    "data_variance"
   ]
  },
  {
   "cell_type": "markdown",
   "id": "0e485d49-a817-4811-8c80-2a3d9698bb82",
   "metadata": {},
   "source": [
    "* Standard Deviation : -"
   ]
  },
  {
   "cell_type": "markdown",
   "id": "d436b4c3-01ae-4d8c-8c25-6f28485a51a7",
   "metadata": {},
   "source": [
    "Standard deviation is the square root of the variance. It provides a measure of the average amount of variation or dispersion of the data points from the mean. A higher standard deviation indicates greater variability within the dataset."
   ]
  },
  {
   "cell_type": "code",
   "execution_count": 55,
   "id": "ca0dbbd3-360f-431a-b756-b3b74f650792",
   "metadata": {},
   "outputs": [],
   "source": [
    "data_std_dev = np.std(data)"
   ]
  },
  {
   "cell_type": "code",
   "execution_count": 56,
   "id": "d6347d8a-6f4b-4fec-b073-825ecd3012c0",
   "metadata": {},
   "outputs": [
    {
     "data": {
      "text/plain": [
       "1.7885814036548633"
      ]
     },
     "execution_count": 56,
     "metadata": {},
     "output_type": "execute_result"
    }
   ],
   "source": [
    "data_std_dev"
   ]
  },
  {
   "cell_type": "markdown",
   "id": "b018e052-5e69-49c2-8b73-c16d41cfaf9c",
   "metadata": {},
   "source": [
    "## Q6. What is a Venn diagram?"
   ]
  },
  {
   "cell_type": "markdown",
   "id": "1557bf9c-6e05-4952-a964-d32f1e86fecf",
   "metadata": {},
   "source": [
    "Ans "
   ]
  },
  {
   "cell_type": "markdown",
   "id": "46bbf54e-9e5e-460c-9229-9d88d9bd7160",
   "metadata": {},
   "source": [
    "A Venn diagram is a graphical representation of sets or groups of objects. It uses circles to represent these sets, with the overlapping parts indicating commonalities between the sets."
   ]
  },
  {
   "cell_type": "markdown",
   "id": "71edb394-ae8e-49d7-8936-59d8cd306838",
   "metadata": {},
   "source": [
    "## Q7. For the two given sets A = (2,3,4,5,6,7) & B = (0,2,6,8,10). Find:\n",
    "* (i) A Intersect B\n",
    "* (ii) A ⋃ B"
   ]
  },
  {
   "cell_type": "markdown",
   "id": "90c4e280-d5ed-46e9-bdeb-34b414423039",
   "metadata": {},
   "source": [
    "Ans "
   ]
  },
  {
   "cell_type": "code",
   "execution_count": 58,
   "id": "a638359e-4fb5-4022-9d61-51c54856d3c9",
   "metadata": {},
   "outputs": [],
   "source": [
    "A = {2,3,4,5,6,7}\n",
    "B = {0,2,6,8,10}"
   ]
  },
  {
   "cell_type": "code",
   "execution_count": 9,
   "id": "43607636-928f-4589-be1b-965636f12fab",
   "metadata": {},
   "outputs": [],
   "source": [
    "intersection = A.intersection(B)"
   ]
  },
  {
   "cell_type": "code",
   "execution_count": 10,
   "id": "7757886d-37ca-4091-a2c1-c8b8244e159b",
   "metadata": {},
   "outputs": [
    {
     "data": {
      "text/plain": [
       "{2, 6}"
      ]
     },
     "execution_count": 10,
     "metadata": {},
     "output_type": "execute_result"
    }
   ],
   "source": [
    "intersection"
   ]
  },
  {
   "cell_type": "code",
   "execution_count": 11,
   "id": "bbdb0d52-d282-48ca-83d4-e8a50ce1a0ff",
   "metadata": {},
   "outputs": [],
   "source": [
    "union = A.union(B)"
   ]
  },
  {
   "cell_type": "code",
   "execution_count": 12,
   "id": "b36f46d1-a984-45de-a204-407dc3e64d30",
   "metadata": {},
   "outputs": [
    {
     "data": {
      "text/plain": [
       "{0, 2, 3, 4, 5, 6, 7, 8, 10}"
      ]
     },
     "execution_count": 12,
     "metadata": {},
     "output_type": "execute_result"
    }
   ],
   "source": [
    "union"
   ]
  },
  {
   "cell_type": "markdown",
   "id": "e88d701e-9eac-4268-a218-fdc3c60967ec",
   "metadata": {},
   "source": [
    "## Q8. What do you understand about skewness in data?"
   ]
  },
  {
   "cell_type": "markdown",
   "id": "972124bb-d71a-4cf9-b662-5616e0c3307f",
   "metadata": {},
   "source": [
    "Ans "
   ]
  },
  {
   "cell_type": "markdown",
   "id": "0037e2b4-c4a5-4e19-a85f-d91fba300085",
   "metadata": {},
   "source": [
    "Skewness in data refers to the lack of symmetry in the distribution of data points. If the distribution is skewed to the right, it means that the tail on the right-hand side of the distribution is longer or fatter than the left-hand side. Conversely, if the distribution is skewed to the left, the tail on the left-hand side is longer or fatter than the right-hand side."
   ]
  },
  {
   "cell_type": "markdown",
   "id": "649b986b-4521-4f08-b2e0-ded1a8c81f60",
   "metadata": {},
   "source": [
    "## Q9. If a data is right skewed then what will be the position of median with respect to mean?"
   ]
  },
  {
   "cell_type": "markdown",
   "id": "eef3ee64-54cc-4d43-a24e-2eea4f0b7874",
   "metadata": {},
   "source": [
    "Ans "
   ]
  },
  {
   "cell_type": "markdown",
   "id": "4a9f1741-4e40-4180-a933-04969df285ce",
   "metadata": {},
   "source": []
  },
  {
   "cell_type": "markdown",
   "id": "b552d52f-c5a3-47b0-9bfd-a36f21f9d0c5",
   "metadata": {},
   "source": [
    "## Q10. Explain the difference between covariance and correlation. How are these measures used in statistical analysis?"
   ]
  },
  {
   "cell_type": "markdown",
   "id": "feab0dcd-e7fa-4aa9-9020-bf908143a392",
   "metadata": {},
   "source": [
    "Ans"
   ]
  },
  {
   "cell_type": "markdown",
   "id": "4746912c-4dff-4805-a07b-4e378f71dc9b",
   "metadata": {},
   "source": [
    "* **Covariance**:\n",
    "   - Covariance measures the extent to which two variables change together. It indicates the direction of the linear relationship between the variables (whether they move in the same direction or opposite directions) and the strength of that relationship.\n",
    "   - Covariance can take on any value, positive or negative, depending on the relationship between the variables. A positive covariance indicates that the variables tend to move in the same direction, while a negative covariance indicates that they move in opposite directions."
   ]
  },
  {
   "cell_type": "markdown",
   "id": "a92ecc8b-18c2-4eac-9ae7-7b3426380ac2",
   "metadata": {},
   "source": [
    "* **Correlation**:\n",
    "   - Correlation is a standardized measure of the relationship between two variables. It not only indicates the direction and strength of the relationship but also the degree to which the variables are linearly related.\n",
    "   - The correlation coefficient, denoted by ρ (rho) for population correlation and r for sample correlation, ranges from -1 to 1.\n",
    "   - A correlation of 1 indicates a perfect positive linear relationship, -1 indicates a perfect negative linear relationship, and 0 indicates no linear relationship."
   ]
  },
  {
   "cell_type": "markdown",
   "id": "fa912373-57d1-4019-b81d-7ed7560a336d",
   "metadata": {},
   "source": [
    "* **In statistical analysis:**\n",
    "\n",
    "* Covariance is useful for understanding the direction of the relationship between two variables and the degree to which they vary together. However, it does not provide a standardized measure of the relationship, making it difficult to compare across different datasets.\n",
    "\n",
    "* Correlation, on the other hand, provides a standardized measure, allowing for easy comparison across datasets. It is widely used in various fields such as finance, economics, and social sciences to analyze relationships between variables and make predictions."
   ]
  },
  {
   "cell_type": "markdown",
   "id": "5b304dfb-c74b-4c65-884e-dfd84113be0f",
   "metadata": {},
   "source": [
    "## Q11. What is the formula for calculating the sample mean? Provide an example calculation for a dataset."
   ]
  },
  {
   "cell_type": "markdown",
   "id": "0ac83a05-cdf4-42ba-8c09-ac5e58d80624",
   "metadata": {},
   "source": [
    "Ans "
   ]
  },
  {
   "cell_type": "markdown",
   "id": "41c42f39-b314-4782-aaf9-95dc11ad005a",
   "metadata": {},
   "source": [
    "The formula for calculating the sample mean (\\( \\bar{x} \\)) is the sum of all the data points divided by the number of data points in the sample. Mathematically, it is expressed as:\n",
    "\n",
    "\\[ \\bar{x} = \\frac{\\sum_{i=1}^{n} x_i}{n} \\]\n",
    "\n",
    "Where:\n",
    "- \\( \\bar{x} \\) is the sample mean,\n",
    "- \\( x_i \\) represents each individual data point,\n",
    "- \\( n \\) is the total number of data points.\n",
    "\n",
    "Here's an example calculation for a dataset:\n",
    "\n",
    "Consider the following dataset representing the scores of students in a math test:\n",
    "\\[ \\text{Scores} = [85, 90, 92, 88, 78, 95, 87, 84, 91, 89] \\]\n",
    "\n",
    "We'll use the formula to find the sample mean:\n",
    "\n",
    "\\[ \\bar{x} = \\frac{85 + 90 + 92 + 88 + 78 + 95 + 87 + 84 + 91 + 89}{10} \\]\n",
    "\n",
    "\\[ \\bar{x} = \\frac{899}{10} \\]\n",
    "\n",
    "\\[ \\bar{x} = 89.9 \\]\n",
    "\n",
    "So, the sample mean score for this dataset is 89.9."
   ]
  },
  {
   "cell_type": "markdown",
   "id": "327b5152-9520-4c44-b91f-c30a6c3cacb3",
   "metadata": {},
   "source": [
    "## Q12. For a normal distribution data what is the relationship between its measure of central tendency?"
   ]
  },
  {
   "cell_type": "markdown",
   "id": "fd5070ef-b7d6-4024-a991-2ac6a7549c67",
   "metadata": {},
   "source": [
    "Ans "
   ]
  },
  {
   "cell_type": "markdown",
   "id": "9102eb82-1dd3-4180-9431-9ff3ed0d33ab",
   "metadata": {},
   "source": [
    "For a normal distribution, the mean, median, and mode are all equal and are located at the center of the distribution. This is one of the defining characteristics of a normal distribution and is often referred to as the symmetry of the distribution.\n",
    "\n",
    "In summary:\n",
    "- **Mean**: The arithmetic average of all the data points. It is the balance point of the distribution.\n",
    "- **Median**: The middle value of the dataset when the data is arranged in ascending or descending order. It is also the same as the mean in a normal distribution.\n",
    "- **Mode**: The value that occurs most frequently in the dataset. Like the mean and median, it is also equal to them in a normal distribution.\n",
    "\n",
    "This equality of the mean, median, and mode in a normal distribution is what contributes to its symmetric bell-shaped curve. It's a key characteristic that distinguishes normal distributions from other types of distributions."
   ]
  },
  {
   "cell_type": "markdown",
   "id": "b956d8c5-f8b0-4dd6-95bf-c5d70ea0859d",
   "metadata": {},
   "source": [
    "## Q13. How is covariance different from correlation?"
   ]
  },
  {
   "cell_type": "markdown",
   "id": "f78f1610-893f-4c71-873a-b6e29fb93e26",
   "metadata": {},
   "source": [
    "Ans "
   ]
  },
  {
   "cell_type": "markdown",
   "id": "d6d2979a-b48c-4b68-b7a0-31de7f2a027a",
   "metadata": {},
   "source": [
    "Covariance and correlation are both measures used to describe the relationship between two variables, but they differ in several aspects:\n",
    "\n",
    "1. **Definition**:\n",
    "   - **Covariance**: Covariance measures the extent to which two variables change together. It indicates the direction of the linear relationship between the variables (whether they move in the same direction or opposite directions) and the strength of that relationship.\n",
    "   - **Correlation**: Correlation is a standardized measure of the relationship between two variables. It not only indicates the direction and strength of the relationship but also the degree to which the variables are linearly related.\n"
   ]
  },
  {
   "cell_type": "markdown",
   "id": "59cb6989-8027-471d-9f80-dabad3042bc1",
   "metadata": {},
   "source": [
    "2. **Scale**:\n",
    "   - **Covariance**: Covariance is not standardized and can take on any value, positive or negative, depending on the relationship between the variables. A positive covariance indicates that the variables tend to move in the same direction, while a negative covariance indicates that they move in opposite directions.\n",
    "   - **Correlation**: Correlation is standardized and ranges from -1 to 1. A correlation of 1 indicates a perfect positive linear relationship, -1 indicates a perfect negative linear relationship, and 0 indicates no linear relationship."
   ]
  },
  {
   "cell_type": "markdown",
   "id": "2c36f3dd-7579-4bc7-966f-bb9fed12dc81",
   "metadata": {},
   "source": [
    "3. **Units**:\n",
    "   - **Covariance**: The units of covariance are the product of the units of the two variables.\n",
    "   - **Correlation**: Correlation is unitless because it is calculated by standardizing covariance by the product of the standard deviations of the variables."
   ]
  },
  {
   "cell_type": "markdown",
   "id": "fa94273e-0433-4472-843c-6c85f3d207b8",
   "metadata": {},
   "source": [
    "4. **Interpretation**:\n",
    "   - **Covariance**: Covariance provides information about the direction and strength of the relationship between two variables but does not provide a standardized measure for easy comparison across different datasets.\n",
    "   - **Correlation**: Correlation provides a standardized measure, making it easier to compare the relationships between variables across different datasets. It also indicates the degree of linearity between the variables."
   ]
  },
  {
   "cell_type": "markdown",
   "id": "f31cce52-3c96-4122-9f10-b154a458e1b3",
   "metadata": {},
   "source": [
    "## Q14. How do outliers affect measures of central tendency and dispersion? Provide an example."
   ]
  },
  {
   "cell_type": "markdown",
   "id": "92b3d74a-15f5-42c9-9f42-46ca1a19ccdd",
   "metadata": {},
   "source": [
    "Ans "
   ]
  },
  {
   "cell_type": "markdown",
   "id": "f2f8cfe7-7d69-4f39-99aa-ea96f48b3af7",
   "metadata": {},
   "source": [
    "Outliers can significantly impact measures of central tendency and dispersion in a dataset. Here's how they affect these measures:\n",
    "\n",
    "*  **Measures of Central Tendency**:\n",
    "   - **Mean**: Outliers can pull the mean towards them, especially if they are extreme values. This is because the mean is calculated by summing all the data points and dividing by the total number of data points. Outliers have a disproportionate effect on the sum, thus affecting the mean.\n",
    "   - **Median**: The median is less affected by outliers compared to the mean because it represents the middle value when the data is sorted. Outliers do not have a direct impact on the position of the median, as long as they are not close to the middle of the dataset.\n",
    "   - **Mode**: Outliers generally do not affect the mode because it represents the most frequently occurring value in the dataset. However, if an outlier occurs with a significantly higher frequency, it may influence the mode.\n",
    "\n",
    "*  **Measures of Dispersion**:\n",
    "   - **Range**: Outliers can increase the range of the dataset, especially if they are extreme values. The range is calculated as the difference between the maximum and minimum values, and outliers can widen this difference.\n",
    "   - **Variance and Standard Deviation**: Outliers can inflate the variance and standard deviation of the dataset. This is because these measures are based on the squared deviations of each data point from the mean. Outliers, especially extreme ones, have large squared deviations, leading to higher variance and standard deviation.\n",
    "\n"
   ]
  },
  {
   "cell_type": "markdown",
   "id": "8e37233d-15fd-440e-8af7-3c9e3471da17",
   "metadata": {},
   "source": [
    "**Example**:"
   ]
  },
  {
   "cell_type": "markdown",
   "id": "49ee18a5-4545-4312-b7ab-c1497378bcb3",
   "metadata": {},
   "source": [
    "Consider a dataset representing the salaries of employees in a company:\n",
    "\n",
    "* Salaries= [30000, 35000, 40000, 45000, 50000, 1000000]\n",
    "\n",
    "In this dataset, the salary of $1,000,000 is an outlier. Its presence significantly affects the measures of central tendency and dispersion:\n",
    "\n",
    "- **Mean**: The mean salary is heavily influenced by the outlier:\n",
    "  Mean = \\frac{30000 + 35000 + 40000 + 45000 + 50000 + 1000000}/{6} \\approx 191667\n",
    "- **Median**: The median remains unaffected as it's not influenced by extreme values:\n",
    "  Median = 42500\n",
    "- **Mode**: The mode remains unaffected as well:\n",
    "  Mode = No mode\n",
    "- **Range**: The range is inflated due to the outlier:\n",
    "  Range = 1000000 - 30000 = 970000\n",
    "- **Variance and Standard Deviation**: Both variance and standard deviation are significantly affected by the outlier, leading to larger values.\n"
   ]
  }
 ],
 "metadata": {
  "kernelspec": {
   "display_name": "Python 3 (ipykernel)",
   "language": "python",
   "name": "python3"
  },
  "language_info": {
   "codemirror_mode": {
    "name": "ipython",
    "version": 3
   },
   "file_extension": ".py",
   "mimetype": "text/x-python",
   "name": "python",
   "nbconvert_exporter": "python",
   "pygments_lexer": "ipython3",
   "version": "3.10.8"
  }
 },
 "nbformat": 4,
 "nbformat_minor": 5
}
